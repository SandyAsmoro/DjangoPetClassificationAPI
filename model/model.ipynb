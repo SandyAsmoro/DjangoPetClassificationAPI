{
 "cells": [
  {
   "cell_type": "code",
   "execution_count": 1,
   "metadata": {},
   "outputs": [
    {
     "name": "stdout",
     "output_type": "stream",
     "text": [
      "Model saved to model.pickle\n",
      "Accuracy:  80.0 %\n",
      "Predicted animal: Cat\n"
     ]
    }
   ],
   "source": [
    "import pandas as pd\n",
    "import numpy as np\n",
    "import pickle\n",
    "from sklearn.model_selection import train_test_split\n",
    "from sklearn.neighbors import KNeighborsClassifier\n",
    "from sklearn.metrics import accuracy_score\n",
    "\n",
    "# Load the data from the CSV file\n",
    "data = pd.read_csv(\"../model/CatsAndDogs_v2.csv\")\n",
    "\n",
    "# Separate features and labels\n",
    "X = data[['Height', 'Weight', 'Length', 'FurLength', 'PawSize', 'EarShape']].values\n",
    "Y = data['Animal'].values\n",
    "\n",
    "# Split the data into training and testing sets\n",
    "X_train, X_test, Y_train, Y_test = train_test_split(X, Y, test_size=0.2)\n",
    "\n",
    "# Create and train the KNN model\n",
    "knn = KNeighborsClassifier(n_neighbors=15)\n",
    "knn.fit(X_train, Y_train)\n",
    "\n",
    "# Save the trained model to a .pickle file\n",
    "model_filename = \"model.pickle\"\n",
    "with open(model_filename, \"wb\") as file:\n",
    "    pickle.dump(knn, file)\n",
    "print(f\"Model saved to {model_filename}\")\n",
    "\n",
    "# Load the model from the .pickle file (for testing purposes)\n",
    "with open(model_filename, \"rb\") as file:\n",
    "    loaded_model = pickle.load(file)\n",
    "\n",
    "# Make predictions on the test set\n",
    "Y_pred = loaded_model.predict(X_test)\n",
    "\n",
    "# Evaluate the model's accuracy\n",
    "accuracy = accuracy_score(Y_test, Y_pred)\n",
    "print(\"Accuracy: \", accuracy * 100, \"%\")\n",
    "\n",
    "# Prepare the input data for prediction\n",
    "new_data = np.array([[20, 5, 30, 0, 0, 1]])\n",
    "\n",
    "# Predict the animal type using the loaded model\n",
    "prediction = loaded_model.predict(new_data)\n",
    "\n",
    "# Output the prediction\n",
    "if prediction == 0:\n",
    "    print(\"Predicted animal: Cat\")\n",
    "else:\n",
    "    print(\"Predicted animal: Dog\")\n"
   ]
  }
 ],
 "metadata": {
  "kernelspec": {
   "display_name": "venv",
   "language": "python",
   "name": "python3"
  },
  "language_info": {
   "codemirror_mode": {
    "name": "ipython",
    "version": 3
   },
   "file_extension": ".py",
   "mimetype": "text/x-python",
   "name": "python",
   "nbconvert_exporter": "python",
   "pygments_lexer": "ipython3",
   "version": "3.12.5"
  }
 },
 "nbformat": 4,
 "nbformat_minor": 2
}
